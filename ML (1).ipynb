{
  "metadata": {
    "kernelspec": {
      "name": "python",
      "display_name": "Python (Pyodide)",
      "language": "python"
    },
    "language_info": {
      "codemirror_mode": {
        "name": "python",
        "version": 3
      },
      "file_extension": ".py",
      "mimetype": "text/x-python",
      "name": "python",
      "nbconvert_exporter": "python",
      "pygments_lexer": "ipython3",
      "version": "3.8"
    }
  },
  "nbformat_minor": 5,
  "nbformat": 4,
  "cells": [
    {
      "id": "11fddf1e-3810-450d-af00-cadb28c0f639",
      "cell_type": "code",
      "source": "import numpy as np\nimport pandas as pd\nimport matplotlib.pyplot as plt",
      "metadata": {
        "trusted": true
      },
      "outputs": [],
      "execution_count": null
    },
    {
      "id": "ed3fb75b-76ee-4b8b-bd2c-eb26a17908ee",
      "cell_type": "code",
      "source": "data= pd.read_csv('dataset.csv')\ntest_set = pd.read_csv('test_set.csv')",
      "metadata": {
        "trusted": true
      },
      "outputs": [],
      "execution_count": null
    },
    {
      "id": "66ee6923-b185-416f-b734-b8a2095050dc",
      "cell_type": "code",
      "source": "def gradient_descent( m_now ,b_now , points ,L):\n    m_gradient=0\n    b_gradient=0\n    n = len(points)\n    for i in range (n):\n        x=points.iloc[i].studyhours\n        y=points.iloc[i].scores\n        m_gradient += (-2/n)* x * (y-(m_now * x + b_now))\n        b_gradient += (-2/n)* (y - (m_now* x + b_now))\n    m = m_now-m_gradient*L\n    b = b_now-b_gradient*L\n    return m , b",
      "metadata": {
        "trusted": true
      },
      "outputs": [],
      "execution_count": 20
    },
    {
      "id": "a73d0c94-f071-4c81-a90e-6dd27460254c",
      "cell_type": "code",
      "source": "m = 0\nb = 0\niterations = 500\nL= 0.001\nfor i in range (iterations):\n     m,b = gradient_descent(m, b , data, L)\nprint(m,b)\ndef predict(x):\n    return m * x + b \n    \nstudyhours = 5  \npredicted_score = predict(studyhours)\nprint(f\"Predicted score for {studyhours} hours of study: {predicted_score}\")\n\n",
      "metadata": {
        "trusted": true
      },
      "outputs": [
        {
          "name": "stdout",
          "output_type": "stream",
          "text": "7.936575037082024 0.6876862700157498\nPredicted score for 5 hours of study: 40.37056145542587\n"
        }
      ],
      "execution_count": 27
    },
    {
      "id": "5a5980f1-6a61-4559-8304-35c20c319625",
      "cell_type": "code",
      "source": "x_values = np.linspace(0, 13, 500)  \ny_predictions = [predict(x) for x in x_values]\n\n# Plot the predictions\nplt.plot(x_values, y_predictions, label=\"Predicted Scores\", color=\"blue\")\nplt.scatter(test_set.Studyhours, test_set.Scores, color=\"red\", label=\"Actual Data\")\nplt.xlabel(\"Study Hours\")\nplt.ylabel(\"Predicted Score\")\nplt.title(\"Study Hours vs Predicted Scores\")\nplt.legend()\nplt.show()",
      "metadata": {
        "trusted": true
      },
      "outputs": [],
      "execution_count": null
    },
    {
      "id": "72d8fbf9-4657-4854-bb3d-6e3edbb8a46a",
      "cell_type": "code",
      "source": "plt.scatter(data.studyhours,data.scores, color = \"black\")\nplt.plot(list (range(1,13)),[m*x+b for x in range (1,13) ],color = \"red\" ) \nplt.show()",
      "metadata": {
        "trusted": true
      },
      "outputs": [],
      "execution_count": null
    },
    {
      "id": "2c7f98b7-bad7-46c0-a964-06a384254d3e",
      "cell_type": "code",
      "source": "",
      "metadata": {
        "trusted": true
      },
      "outputs": [],
      "execution_count": null
    }
  ]
}